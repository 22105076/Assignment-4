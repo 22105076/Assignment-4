{
 "cells": [
  {
   "cell_type": "code",
   "execution_count": null,
   "metadata": {},
   "outputs": [],
   "source": [
    "#QUESTION-1\n",
    "\n",
    "marks=int(input(\"enter the makrs=\"))\n",
    "\n",
    "if(marks<25):\n",
    "    grade='f'\n",
    "elif(25<=marks<45):\n",
    "    grade='e'\n",
    "elif(45<=marks<50):\n",
    "    grade='d'\n",
    "elif(50<=marks<60):\n",
    "    grade='c'\n",
    "elif(60<=marks<80):\n",
    "    grade='b'\n",
    "elif(marks>=80):\n",
    "    grade='a'\n",
    "GR=grade.upper()\n",
    "\n",
    "print(f\"your grade is {GR}\")"
   ]
  },
  {
   "cell_type": "code",
   "execution_count": null,
   "metadata": {},
   "outputs": [],
   "source": [
    "#QUESTION-2\n",
    "\n",
    "year=int(input(\"enter the year\"))\n",
    "\n",
    "if(year%100==0):\n",
    "    if(year%400==0):\n",
    "        flag=1\n",
    "    else:\n",
    "        flag=0\n",
    "elif(year%4==0):\n",
    "    flag=1\n",
    "else:\n",
    "    flag=0\n",
    "\n",
    "if(flag==1):\n",
    "    print(\"Its's a leap year\")\n",
    "else:\n",
    "    print(\"It's a non leap year\")"
   ]
  },
  {
   "cell_type": "code",
   "execution_count": null,
   "metadata": {},
   "outputs": [],
   "source": [
    "#QUESTION-3\n",
    "\n",
    "import random\n",
    "n=0\n",
    "while(n<10):\n",
    "    n1=random.randint(1,10)\n",
    "    n2=random.randint(1,10)\n",
    "    rans=n1*n2\n",
    "\n",
    "    ans=int(input(f\"question no.{n}-{n1}*{n2}= \"))\n",
    "\n",
    "    if(ans==rans):\n",
    "        print(\"Right\")\n",
    "    else:\n",
    "        print(f\"Wrong.The ans is {rans}\")\n",
    "\n",
    "    n+=1\n",
    "\n",
    "\n",
    "\n",
    "\n"
   ]
  },
  {
   "cell_type": "code",
   "execution_count": 2,
   "metadata": {},
   "outputs": [
    {
     "name": "stdout",
     "output_type": "stream",
     "text": [
      "number of candies=177\n"
     ]
    }
   ],
   "source": [
    "#QUESTION-4\n",
    "\n",
    "n=0\n",
    "while(n<200):\n",
    "    if(n%5==2):\n",
    "        if(n%6==3):\n",
    "            if(n%7==2):\n",
    "                number=n\n",
    "\n",
    "    n+=1\n",
    "\n",
    "print(f\"number of candies={number}\")"
   ]
  },
  {
   "cell_type": "code",
   "execution_count": null,
   "metadata": {},
   "outputs": [],
   "source": []
  }
 ],
 "metadata": {
  "kernelspec": {
   "display_name": "Python 3",
   "language": "python",
   "name": "python3"
  },
  "language_info": {
   "codemirror_mode": {
    "name": "ipython",
    "version": 3
   },
   "file_extension": ".py",
   "mimetype": "text/x-python",
   "name": "python",
   "nbconvert_exporter": "python",
   "pygments_lexer": "ipython3",
   "version": "3.9.6"
  },
  "orig_nbformat": 4,
  "vscode": {
   "interpreter": {
    "hash": "31f2aee4e71d21fbe5cf8b01ff0e069b9275f58929596ceb00d14d90e3e16cd6"
   }
  }
 },
 "nbformat": 4,
 "nbformat_minor": 2
}
